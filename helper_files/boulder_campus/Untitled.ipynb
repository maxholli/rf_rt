{
 "cells": [
  {
   "cell_type": "code",
   "execution_count": 1,
   "id": "b92bb6e4-6bfa-4a01-8cab-18d839f24c02",
   "metadata": {},
   "outputs": [],
   "source": [
    "import shapefile\n",
    "import argparse\n",
    "import numpy as np\n",
    "import matplotlib.pyplot as plt\n",
    "from copy import copy\n",
    "import os\n",
    "import rasterio"
   ]
  },
  {
   "cell_type": "code",
   "execution_count": 2,
   "id": "f45f21b3-d0fa-4c7d-aa15-a436690aac33",
   "metadata": {},
   "outputs": [],
   "source": [
    "def find_middle(points):\n",
    "    max_lat = points[0][1] ## north\n",
    "    max_long = points[0][0] ## east\n",
    "    min_lat = points[0][1] ## south\n",
    "    min_long = points[0][0] ## west\n",
    "    for vert in points:\n",
    "        if vert[0] < min_long:\n",
    "            min_long = vert[0]\n",
    "        if vert[0] > max_long:\n",
    "            max_long = vert[0]\n",
    "        if vert[1] < min_lat:\n",
    "            min_lat = vert[1]\n",
    "        if vert[1] > max_lat:\n",
    "            max_lat = vert[1]\n",
    "    ave_lat = (max_lat + min_lat) / 2\n",
    "    ave_long = (max_long + min_long) / 2\n",
    "    return (ave_long, ave_lat)\n",
    "\n",
    "def find_nearest_ground_elev(pband1, row, col):\n",
    "    cr_dist = 501\n",
    "    c_right = -9999.0\n",
    "    for cr in range(500):\n",
    "        try:\n",
    "            if pband1[row,col+cr] != -9999.0:\n",
    "                c_right = pband1[row,col+cr]\n",
    "                cr_dist = cr\n",
    "                break\n",
    "        except IndexError:\n",
    "            break\n",
    "    cd_dist = 501\n",
    "    c_down = -9999.0\n",
    "    for cd in range(500):\n",
    "        try:\n",
    "            if pband1[row+cd,col] != -9999.0:\n",
    "                c_down = pband1[row+cd,col]\n",
    "                cd_dist = cd\n",
    "                break\n",
    "        except IndexError:\n",
    "            break\n",
    "    cl_dist = 501\n",
    "    c_left = -9999.0\n",
    "    for cl in range(500):\n",
    "        if col-cl < 0:\n",
    "            break\n",
    "        elif pband1[row,col-cl] != -9999.0:\n",
    "            c_left = pband1[row,col-cl]\n",
    "            cl_dist = cl\n",
    "            break\n",
    "    cu_dist = 501\n",
    "    c_up = -9999.0\n",
    "    for cu in range(500):\n",
    "        if row-cu < 0:\n",
    "            break\n",
    "        elif band1[row-cu,col] != -9999.0:\n",
    "            c_up = pband1[row-cu,col]\n",
    "            cu_dist = cu\n",
    "            break\n",
    "    print(c_right, cr_dist, c_down, cd_dist, c_left, cl_dist, c_up, cu_dist)\n",
    "    heights = [c_right, c_down, c_left, c_up]\n",
    "    dists = [cr_dist, cd_dist, cl_dist, cu_dist]\n",
    "    all_9999 = True\n",
    "    if max(heights) == -9999.0:\n",
    "        print(\"ERROR: STOP NOW AND INSPECT\")\n",
    "        print(\"ERROR: there's no terrain within 500m of the building to base the ground_elev on\")\n",
    "    nearest_grnd = heights[dists.index(min(dists))]\n",
    "    return nearest_grnd"
   ]
  },
  {
   "cell_type": "code",
   "execution_count": 3,
   "id": "b835c95a-473b-42fb-8c44-424a9757d0b1",
   "metadata": {},
   "outputs": [],
   "source": [
    "lat_deg = 111320\n",
    "long_deg = 40075000 * np.cos(lat_deg) / 360"
   ]
  },
  {
   "cell_type": "code",
   "execution_count": 4,
   "id": "73f3cfc8-28c7-4114-9168-e2ee1d927b7b",
   "metadata": {},
   "outputs": [
    {
     "name": "stdout",
     "output_type": "stream",
     "text": [
      "111320 77083.48825393952\n"
     ]
    }
   ],
   "source": [
    "print(lat_deg, long_deg)"
   ]
  },
  {
   "cell_type": "code",
   "execution_count": 5,
   "id": "44317ef4-5fbc-4536-8f9b-6cdb88a97549",
   "metadata": {},
   "outputs": [],
   "source": [
    "def measure(lat1, lon1, lat2, lon2):  ## generally used geo measurement function\n",
    "    R = 6378.137 ## Radius of earth in KM\n",
    "    dLat = lat2 * np.pi / 180 - lat1 * np.pi / 180\n",
    "    dLon = lon2 * np.pi / 180 - lon1 * np.pi / 180\n",
    "    a = np.sin(dLat/2) * np.sin(dLat/2) + \\\n",
    "        np.cos(lat1 * np.pi / 180) * np.cos(lat2 * np.pi / 180) * \\\n",
    "        np.sin(dLon/2) * np.sin(dLon/2)\n",
    "    c = 2 * np.arctan2(np.sqrt(a), np.sqrt(1-a))\n",
    "    d = R * c;\n",
    "    return d * 1000 # meters"
   ]
  },
  {
   "cell_type": "code",
   "execution_count": 6,
   "id": "cf2c1dda-f68a-40b7-849b-9e9434a0f53a",
   "metadata": {},
   "outputs": [],
   "source": [
    "lat_deg = measure(40, -105, 39, -105)\n",
    "long_deg = measure(40.0096, -105, 40.0096, -106)"
   ]
  },
  {
   "cell_type": "code",
   "execution_count": 7,
   "id": "e350cb8f-fdb5-4483-a0ef-bbd3fc5ced85",
   "metadata": {},
   "outputs": [
    {
     "name": "stdout",
     "output_type": "stream",
     "text": [
      "111319.49079327371 85263.23969113332\n"
     ]
    }
   ],
   "source": [
    "print(lat_deg, long_deg)"
   ]
  },
  {
   "cell_type": "code",
   "execution_count": 8,
   "id": "74280742-d10e-4dff-a896-d357a6b033b1",
   "metadata": {},
   "outputs": [],
   "source": [
    "lat_deg = 110950\n",
    "long_deg = 85000"
   ]
  },
  {
   "cell_type": "code",
   "execution_count": 9,
   "id": "cb6e089c-6088-44a6-a390-f2769fbc0392",
   "metadata": {},
   "outputs": [],
   "source": [
    "path = \"/home/jovyan/shared/max/rf_rt/helper_files/boulder_campus/holey_Bs/boulder_bs/\""
   ]
  },
  {
   "cell_type": "code",
   "execution_count": 10,
   "id": "71dafdb0-5ffe-474e-96b9-18ba0794c798",
   "metadata": {},
   "outputs": [],
   "source": [
    "# select_buildings = [971604]\n",
    "# select_buildings = [972192] ## library\n",
    "select_buildings = [969073]"
   ]
  },
  {
   "cell_type": "code",
   "execution_count": 11,
   "id": "a12e2d8c-866e-42aa-a95a-fbe033a328de",
   "metadata": {},
   "outputs": [],
   "source": [
    "shapefile_f = \"Buildings/Building_Footprints.shp\""
   ]
  },
  {
   "cell_type": "code",
   "execution_count": 12,
   "id": "88c5d7a1-e3f3-4afb-bcad-6db003491ab9",
   "metadata": {},
   "outputs": [],
   "source": [
    "sf = shapefile.Reader(shapefile_f)"
   ]
  },
  {
   "cell_type": "code",
   "execution_count": 13,
   "id": "d166523e-0e21-4864-9fd9-b9a048994f2b",
   "metadata": {},
   "outputs": [],
   "source": [
    "shapes = sf.shapes()\n",
    "rec = sf.records()"
   ]
  },
  {
   "cell_type": "code",
   "execution_count": 14,
   "id": "360aed8e-8fb3-440a-82f7-1f751473b20c",
   "metadata": {},
   "outputs": [],
   "source": [
    "tmp_vertex_degrees = []\n",
    "a_building_height = []\n",
    "a_building_low = []\n",
    "a_building_id = []\n",
    "a_holey_building = []\n",
    "## chosen lower left base my 0m, 0m orientation on\n",
    "common_0_long_lat = (-105.27368, 40.00707)\n",
    "## epsg format (bottom, left)\n",
    "common_0_epsg32613 =  (476641.151340244, 4428577.785411156)\n",
    "terrain_dataset = rasterio.open(\"terrain/hellems_arap_1m.tin.tif\")\n",
    "band1 = terrain_dataset.read(1)"
   ]
  },
  {
   "cell_type": "code",
   "execution_count": 15,
   "id": "4ae1dd48-ace8-4301-91ab-4a53ed53694b",
   "metadata": {},
   "outputs": [],
   "source": [
    "for i in range(len(shapes)):\n",
    "    if rec[i]['DRCOGID'] in select_buildings:\n",
    "        print(\"Building is {}\".format(rec[i]['DRCOGID']))\n",
    "        print(shapes[i].points)\n",
    "        middle_point_of_b = find_middle(shapes[i].points)\n",
    "        print(middle_point_of_b)\n",
    "        z_meters = (middle_point_of_b[0] - common_0_long_lat[0]) * long_deg\n",
    "        x_meters = (middle_point_of_b[1] - common_0_long_lat[1]) * lat_deg\n",
    "        print(x_meters, z_meters)\n",
    "        print(x_meters + common_0_epsg32613[1], z_meters + common_0_epsg32613[0])\n",
    "        row, col = terrain_dataset.index(z_meters + common_0_epsg32613[0], x_meters + common_0_epsg32613[1])\n",
    "        ground_elev = band1[row,col] ## if this fails it probably means you have buildings that are outside of the terrain\n",
    "        print(ground_elev)\n",
    "        if ground_elev == -9999.0:\n",
    "            ground_elev = find_nearest_ground_elev(band1, row, col)\n",
    "        print(\"new ground elev = \", ground_elev)          \n",
    "        print(\"-----------------------\")\n",
    "        print(shapes[i].parts)\n",
    "        tmp = []\n",
    "        for vert in shapes[i].points:\n",
    "            tmp.append(np.array([copy(vert[0]),copy(vert[1])]))\n",
    "        if len(shapes[i].parts) > 1: ## marks building with holes\n",
    "            a_holey_building.append(shapes[i].parts)\n",
    "        else:\n",
    "            a_holey_building.append(False)\n",
    "        tmp_vertex_degrees.append(tmp)\n",
    "        a_building_height.append(rec[i]['BLDGHEIGHT']*0.3048+ground_elev)\n",
    "        a_building_low.append(ground_elev-20) ## send walls below the ground\n",
    "        a_building_id.append(rec[i]['DRCOGID'])\n",
    "        # if (len(a_building_id)> 10500):\n",
    "        #     break"
   ]
  },
  {
   "cell_type": "code",
   "execution_count": 13,
   "id": "f961d1eb-fcbb-4761-aa0b-0480cfaea8c4",
   "metadata": {},
   "outputs": [
    {
     "data": {
      "text/plain": [
       "[1711.7099609375, 1732.5799560546875, 1664.4363609375, 1674.1831560546875]"
      ]
     },
     "execution_count": 13,
     "metadata": {},
     "output_type": "execute_result"
    }
   ],
   "source": [
    "a_building_height"
   ]
  },
  {
   "cell_type": "code",
   "execution_count": 11,
   "id": "79a68377-bfeb-40fe-bf8e-2190d2d6e756",
   "metadata": {},
   "outputs": [],
   "source": [
    "a_vertex_degrees = np.array(tmp_vertex_degrees, dtype=object)"
   ]
  },
  {
   "cell_type": "code",
   "execution_count": 12,
   "id": "dc32d973-f4cc-4866-bf80-d957ab48602a",
   "metadata": {},
   "outputs": [
    {
     "name": "stdout",
     "output_type": "stream",
     "text": [
      "num buildings to write: 1\n",
      "total number of objects: 46\n"
     ]
    }
   ],
   "source": [
    "print(\"num buildings to write: {}\".format(len(a_vertex_degrees)))\n",
    "print(\"total number of objects: {}\".format(a_vertex_degrees.size))"
   ]
  },
  {
   "cell_type": "code",
   "execution_count": 20,
   "id": "80f5c35c-dcfc-4530-9f31-9442c79553e9",
   "metadata": {},
   "outputs": [],
   "source": [
    "## longitude, latitude\n",
    "lower_left = np.array([-105.27429, 40.00643])\n",
    "upper_right = np.array([-105.27377, 40.00832])\n",
    "upper_left = np.array([-105.27512, 40.00839])"
   ]
  },
  {
   "cell_type": "code",
   "execution_count": 21,
   "id": "ae7c7612-4754-47c1-849d-bbca8964ac86",
   "metadata": {},
   "outputs": [],
   "source": [
    "vc = 0\n",
    "bc = 0\n",
    "\n",
    "xx = []\n",
    "yy = []"
   ]
  },
  {
   "cell_type": "code",
   "execution_count": 22,
   "id": "5e0e50e8-c582-4f8e-be03-c9db28ebe5b0",
   "metadata": {},
   "outputs": [
    {
     "name": "stdout",
     "output_type": "stream",
     "text": [
      "building height is  5441\n"
     ]
    }
   ],
   "source": [
    "for i in range(len(a_vertex_degrees)):\n",
    "    xx = []\n",
    "    yy = []\n",
    "    print(\"building height is \", a_building_height[i])\n",
    "    building_high = a_building_height[i] * 0.3048 ## convert from feet to meters\n",
    "    building_low = a_building_low[i] * 0.3048 ## convert from feet to meters\n",
    "    v_list = []\n",
    "    f_list = []\n",
    "    building_vc = 0\n",
    "    meter_v = []\n",
    "    for j in range(0, len(a_vertex_degrees[i])):\n",
    "        xx.append((a_vertex_degrees[i][j][0] - upper_left[0]) * long_deg)\n",
    "        yy.append((upper_left[1] - a_vertex_degrees[i][j][1]) * lat_deg)\n",
    "        if j == 0:\n",
    "            meter_v.append((a_vertex_degrees[i][j] - lower_left) * np.array([long_deg, lat_deg]))\n",
    "            vertex = (a_vertex_degrees[i][j] - lower_left) * np.array([long_deg, lat_deg])\n",
    "            v_list.append(\"v {:.4f} {:.4f} {:.4f}\".format(vertex[1], building_low, vertex[0]))\n",
    "            v_list.append(\"v {:.4f} {:.4f} {:.4f}\".format(vertex[1], building_high, vertex[0]))\n",
    "            vc += 2\n",
    "            building_vc += 2\n",
    "        elif j == len(a_vertex_degrees[i])-1:\n",
    "            f_list.append(\"f {} {} {}\".format(vc-1, vc-building_vc+1, vc-building_vc+2))\n",
    "            f_list.append(\"f {} {} {}\".format(vc-1, vc-building_vc+2, vc))\n",
    "            # if a_holey_building[i]:\n",
    "            #     meter_v.append((a_vertex_degrees[i][j] - lower_left) * np.array([long_deg, lat_deg]))\n",
    "        else:\n",
    "            meter_v.append((a_vertex_degrees[i][j] - lower_left) * np.array([long_deg, lat_deg]))\n",
    "            vertex = (a_vertex_degrees[i][j] - lower_left) * np.array([long_deg, lat_deg])\n",
    "            v_list.append(\"v {:.4f} {:.4f} {:.4f}\".format(vertex[1], building_low, vertex[0]))\n",
    "            v_list.append(\"v {:.4f} {:.4f} {:.4f}\".format(vertex[1], building_high, vertex[0]))\n",
    "            vc += 2\n",
    "            building_vc += 2\n",
    "            f_list.append(\"f {} {} {}\".format(vc-3, vc-1, vc))\n",
    "            f_list.append(\"f {} {} {}\".format(vc-3, vc, vc-2))"
   ]
  },
  {
   "cell_type": "code",
   "execution_count": 23,
   "id": "4b5ff6c8-c428-45fe-b469-1552f0d34501",
   "metadata": {},
   "outputs": [
    {
     "data": {
      "text/plain": [
       "['v 161.2415 1655.9784 -7.3797',\n",
       " 'v 161.2415 1658.4168 -7.3797',\n",
       " 'v 162.4992 1655.9784 -7.3557',\n",
       " 'v 162.4992 1658.4168 -7.3557',\n",
       " 'v 162.3963 1655.9784 -2.0183',\n",
       " 'v 162.3963 1658.4168 -2.0183',\n",
       " 'v 152.1397 1655.9784 -2.2144',\n",
       " 'v 152.1397 1658.4168 -2.2144',\n",
       " 'v 152.2424 1655.9784 -7.5518',\n",
       " 'v 152.2424 1658.4168 -7.5518',\n",
       " 'v 156.9394 1655.9784 -7.4620',\n",
       " 'v 156.9394 1658.4168 -7.4620']"
      ]
     },
     "execution_count": 23,
     "metadata": {},
     "output_type": "execute_result"
    }
   ],
   "source": [
    "v_list"
   ]
  },
  {
   "cell_type": "code",
   "execution_count": 24,
   "id": "a2b0f340-569d-4564-8f7a-dad46caacdcc",
   "metadata": {},
   "outputs": [
    {
     "data": {
      "text/plain": [
       "['f 1 3 4',\n",
       " 'f 1 4 2',\n",
       " 'f 3 5 6',\n",
       " 'f 3 6 4',\n",
       " 'f 5 7 8',\n",
       " 'f 5 8 6',\n",
       " 'f 7 9 10',\n",
       " 'f 7 10 8',\n",
       " 'f 9 11 12',\n",
       " 'f 9 12 10',\n",
       " 'f 11 1 2',\n",
       " 'f 11 2 12']"
      ]
     },
     "execution_count": 24,
     "metadata": {},
     "output_type": "execute_result"
    }
   ],
   "source": [
    "f_list"
   ]
  },
  {
   "cell_type": "code",
   "execution_count": 25,
   "id": "033e0c19-f5d2-40cb-aa6c-b350748b14e4",
   "metadata": {},
   "outputs": [
    {
     "data": {
      "text/plain": [
       "[array([-7.379748938376451, 161.24152802331935], dtype=object),\n",
       " array([-7.355654670746503, 162.49915255604606], dtype=object),\n",
       " array([-2.0183293781173006, 162.39628429098474], dtype=object),\n",
       " array([-2.214373726516783, 152.13973864961935], dtype=object),\n",
       " array([-7.551791844377931, 152.2424071711594], dtype=object),\n",
       " array([-7.462034565648423, 156.93936461934152], dtype=object)]"
      ]
     },
     "execution_count": 25,
     "metadata": {},
     "output_type": "execute_result"
    }
   ],
   "source": [
    "meter_v"
   ]
  },
  {
   "cell_type": "code",
   "execution_count": 19,
   "id": "aacfd6a7-5276-4cc6-b6c4-39c8a44695c9",
   "metadata": {},
   "outputs": [
    {
     "name": "stdout",
     "output_type": "stream",
     "text": [
      "ope!\n"
     ]
    }
   ],
   "source": [
    "try:\n",
    "    band1[1,5000]\n",
    "except IndexError:\n",
    "    print(\"ope!\")"
   ]
  },
  {
   "cell_type": "code",
   "execution_count": null,
   "id": "143222ff-2d2a-42f5-a3e1-34988a28002b",
   "metadata": {},
   "outputs": [],
   "source": []
  }
 ],
 "metadata": {
  "kernelspec": {
   "display_name": "Python 3 (ipykernel)",
   "language": "python",
   "name": "python3"
  },
  "language_info": {
   "codemirror_mode": {
    "name": "ipython",
    "version": 3
   },
   "file_extension": ".py",
   "mimetype": "text/x-python",
   "name": "python",
   "nbconvert_exporter": "python",
   "pygments_lexer": "ipython3",
   "version": "3.9.7"
  }
 },
 "nbformat": 4,
 "nbformat_minor": 5
}
